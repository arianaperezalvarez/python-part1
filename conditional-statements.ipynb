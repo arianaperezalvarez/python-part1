https://mybinder.org/v2/gh/geo-python/notebooks/893b29be0b6185197849acfa2da3f5390502412a?urlpath=lab%2Ftree%2FL3%2Fconditional-statements.ipynb
